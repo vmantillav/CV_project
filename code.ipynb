{
  "nbformat": 4,
  "nbformat_minor": 0,
  "metadata": {
    "colab": {
      "name": "model_final.ipynb",
      "provenance": [],
      "machine_shape": "hm"
    },
    "kernelspec": {
      "name": "python3",
      "display_name": "Python 3"
    },
    "accelerator": "TPU"
  },
  "cells": [
    {
      "cell_type": "code",
      "metadata": {
        "id": "dIbhQdAdFWvC",
        "colab_type": "code",
        "outputId": "f7134fa3-4070-4b20-a59c-843c826b9788",
        "colab": {
          "base_uri": "https://localhost:8080/",
          "height": 34
        }
      },
      "source": [
        "from google.colab import drive\n",
        "drive.mount('/content/drive')"
      ],
      "execution_count": 46,
      "outputs": [
        {
          "output_type": "stream",
          "text": [
            "Drive already mounted at /content/drive; to attempt to forcibly remount, call drive.mount(\"/content/drive\", force_remount=True).\n"
          ],
          "name": "stdout"
        }
      ]
    },
    {
      "cell_type": "code",
      "metadata": {
        "id": "HoyrkInbFekc",
        "colab_type": "code",
        "colab": {}
      },
      "source": [
        "import os\n",
        "import cv2\n",
        "import random\n",
        "import numpy as np\n",
        "import tensorflow as tf\n",
        "from os import listdir,remove\n",
        "from tensorflow   import keras\n",
        "import matplotlib.pyplot as plt\n",
        "from keras.utils import plot_model\n",
        "from datetime import datetime as dt\n",
        "from os.path import isfile,isdir,join,splitext,basename\n",
        "from sklearn.model_selection import train_test_split as tts"
      ],
      "execution_count": 0,
      "outputs": []
    },
    {
      "cell_type": "code",
      "metadata": {
        "id": "3xg8L6yuHrb4",
        "colab_type": "code",
        "colab": {}
      },
      "source": [
        "def get_frame(video_source):\n",
        "  video = cv2.VideoCapture(video_source)\n",
        "  ret, frame = video.read()\n",
        "  video.release()\n",
        "  cv2.destroyAllWindows()\n",
        "  return frame\n",
        "\n",
        "def get_frame_count(video_source):\n",
        "  video = cv2.VideoCapture(video_source)\n",
        "  counter=0\n",
        "  ret,frame=video.read()\n",
        "  while ret:\n",
        "    counter+=1\n",
        "    ret,frame=video.read()\n",
        "  video.release()\n",
        "  cv2.destroyAllWindows()\n",
        "  return counter\n",
        "\n",
        "def get_sub_video(video_source,destiny_path,frames):\n",
        "  if isfile(video_source):\n",
        "    frame_count=get_frame_count(video_source)\n",
        "    step=int(frame_count/frames)\n",
        "    if step>0:\n",
        "      video = cv2.VideoCapture(video_source)\n",
        "      counter=0\n",
        "      ret,frame=video.read()\n",
        "      h,w,_=np.shape(frame)\n",
        "      fps = video.get(cv2.CAP_PROP_FPS)\n",
        "      fourcc = cv2.VideoWriter_fourcc(*'png ')\n",
        "      dst=join(destiny_path,basename(video_source))\n",
        "      if isfile(dst):\n",
        "        remove(dst)\n",
        "      videowriter = cv2.VideoWriter(dst,fourcc, fps, (w,h))\n",
        "      rec_counter=0\n",
        "      while ret:\n",
        "        counter+=1\n",
        "        if counter%step==0 and rec_counter<frames:\n",
        "          rec_counter+=1\n",
        "          videowriter.write(frame)\n",
        "        ret,frame=video.read()\n",
        "      videowriter.release()\n",
        "      video.release()\n",
        "      cv2.destroyAllWindows()\n",
        "      return counter\n",
        "    else:\n",
        "      print(\"Video not processed: \",basename(video_source))\n",
        "  else:\n",
        "    print(\"source is not video:\",video_source)\n",
        "\n",
        "def all_patients(videos_path):\n",
        "  patients=[]\n",
        "  if isdir(videos_path):\n",
        "    videos=listdir(videos_path)\n",
        "    for video in videos:\n",
        "      if [video.split(\"_\")[1],video.split(\"_\")[2]] not in patients:\n",
        "        patients.append([video.split(\"_\")[1],video.split(\"_\")[2]])\n",
        "  return patients\n",
        "\n",
        "def leave_one_out(videos_path,patient=None):\n",
        "  if isdir(videos_path):\n",
        "    videos=listdir(videos_path)\n",
        "    patients=all_patients(videos_path)\n",
        "    if patient==None:#take random_patient as test\n",
        "      patient=patients[random.randint(0,len(patients)-1)]\n",
        "    elif len(patient)==2:\n",
        "      patients.remove(patient)\n",
        "    test_videos=[join(videos_path,video) for video in videos if patient[0]+\"_\"+patient[1] in video]\n",
        "    aux=[[join(videos_path,video) for video in videos if patient[0]+\"_\"+patient[1] in video] for patient in patients]\n",
        "    auxx=[]\n",
        "    [auxx.extend(item) for item in aux]\n",
        "    train_videos=[]\n",
        "    [train_videos.append(item) for item in auxx if item not in train_videos]\n",
        "\n",
        "    if len(test_videos)>0:\n",
        "      train_videos.sort()\n",
        "      test_videos.sort()\n",
        "      return train_videos,test_videos\n",
        "\n",
        "def train_test(videos_path,test_size):\n",
        "  if isdir(videos_path):\n",
        "    videos=listdir(videos_path)\n",
        "    l=len(videos)/2\n",
        "    n=int(np.round(l*test_size))\n",
        "    m=int(l-n)\n",
        "    patients=all_patients(videos_path)\n",
        "    random.shuffle(patients)\n",
        "    train_patients=patients[0:m]\n",
        "    test_patients=patients[m:]\n",
        "    aux=[[join(videos_path,video) for video in videos if patient[0]+\"_\"+patient[1] in video] for patient in train_patients]\n",
        "    auxx=[]\n",
        "    [auxx.extend(item) for item in aux]\n",
        "    train_videos=[]\n",
        "    [train_videos.append(item) for item in auxx if item not in train_videos]\n",
        "    aux=[[join(videos_path,video) for video in videos if patient[0]+\"_\"+patient[1] in video] for patient in test_patients]\n",
        "    auxx=[]\n",
        "    [auxx.extend(item) for item in aux]\n",
        "    test_videos=[]\n",
        "    [test_videos.append(item) for item in auxx if item not in train_videos]\n",
        "    return train_videos,test_videos\n",
        "\n",
        "\n",
        "def videos_to_x(videos_sources,normalize=True):\n",
        "  samples=len(videos_sources)\n",
        "  depth=get_frame_count(videos_sources[0])\n",
        "  h,w,c=np.shape(get_frame(videos_sources[0]))\n",
        "  array=np.zeros(shape=[samples,depth,w,h,c])\n",
        "  sample=0\n",
        "  for video in videos_sources:\n",
        "    video = cv2.VideoCapture(video)\n",
        "    counter=0\n",
        "    ret,frame=video.read()\n",
        "    while ret:\n",
        "      array[sample,counter,:,:,:]=frame\n",
        "      counter+=1\n",
        "      ret,frame=video.read()\n",
        "    video.release()\n",
        "    cv2.destroyAllWindows()\n",
        "    sample+=1\n",
        "  if normalize:\n",
        "    array=array/255\n",
        "  return array\n",
        "\n",
        "def videos_to_y(videos_sources):\n",
        "  y=[]\n",
        "  for video in videos_sources:\n",
        "    y.append(int(basename(video).split(\"_\")[2]))\n",
        "  y=np.asarray(y)\n",
        "  return y"
      ],
      "execution_count": 0,
      "outputs": []
    },
    {
      "cell_type": "code",
      "metadata": {
        "id": "liZ97RUriz5D",
        "colab_type": "code",
        "outputId": "ba728780-f21a-4fe6-a8ef-133c400dee7c",
        "colab": {
          "base_uri": "https://localhost:8080/",
          "height": 34
        }
      },
      "source": [
        "videos_path=\"/content/drive/My Drive/Proyecto_de_grado/aux_data/accelerated\"\n",
        "destiny_path=\"/content/drive/My Drive/Proyecto_de_grado/aux_data/summarized\"\n",
        "opt = keras.optimizers.SGD(lr=0.001, momentum=0.9)\n",
        "videos=[join(videos_path,file) for file in listdir(videos_path)]\n",
        "print(\"Total dataset samples:\",len(videos))\n",
        "frames=80\n",
        "res_src=\"/content/drive/My Drive/Proyecto_de_grado/results.txt\"\n",
        "#for video in videos:\n",
        "#  get_sub_video(video,destiny_path,frames)"
      ],
      "execution_count": 49,
      "outputs": [
        {
          "output_type": "stream",
          "text": [
            "Total dataset samples: 52\n"
          ],
          "name": "stdout"
        }
      ]
    },
    {
      "cell_type": "code",
      "metadata": {
        "id": "expdRUx3FmIW",
        "colab_type": "code",
        "colab": {}
      },
      "source": [
        "model_CNN =  keras.models.Sequential()\n",
        "model_CNN.add(keras.layers.Conv3D(8, (5, 5, 5), activation='relu', kernel_initializer='he_uniform', padding='same', input_shape=(frames,150, 150, 3)))\n",
        "model_CNN.add(keras.layers.BatchNormalization())\n",
        "model_CNN.add(keras.layers.ReLU())\n",
        "model_CNN.add(keras.layers.Conv3D(16, (3, 3, 3), activation='relu', kernel_initializer='he_uniform', padding='same'))\n",
        "model_CNN.add(keras.layers.BatchNormalization())\n",
        "model_CNN.add(keras.layers.ReLU())\n",
        "model_CNN.add(keras.layers.Conv3D(32, (3, 3, 3), activation='relu', kernel_initializer='he_uniform', padding='same'))\n",
        "model_CNN.add(keras.layers.BatchNormalization())\n",
        "model_CNN.add(keras.layers.ReLU())\n",
        "model_CNN.add(keras.layers.MaxPooling3D((2, 2, 2)))\n",
        "model_CNN.add(keras.layers.Conv3D(64, (1, 1, 1), activation='relu', kernel_initializer='he_uniform', padding='same'))\n",
        "model_CNN.add(keras.layers.BatchNormalization())\n",
        "model_CNN.add(keras.layers.ReLU())\n",
        "model_CNN.add(keras.layers.Flatten())\n",
        "model_CNN.add(keras.layers.Dense(10,activation='relu', kernel_initializer='he_uniform'))\n",
        "model_CNN.add(keras.layers.Dense(2, activation='softmax'))"
      ],
      "execution_count": 0,
      "outputs": []
    },
    {
      "cell_type": "code",
      "metadata": {
        "id": "VGnc7ZWF5tAV",
        "colab_type": "code",
        "colab": {
          "base_uri": "https://localhost:8080/",
          "height": 712
        },
        "outputId": "34296446-cf46-44d7-9629-da26e95b4402"
      },
      "source": [
        "model_CNN.summary()\n",
        "#plot_model(model_CNN, to_file='/content/drive/My Drive/Proyecto_de_grado/aux_data/model_3D.png')"
      ],
      "execution_count": 51,
      "outputs": [
        {
          "output_type": "stream",
          "text": [
            "Model: \"sequential_3\"\n",
            "_________________________________________________________________\n",
            "Layer (type)                 Output Shape              Param #   \n",
            "=================================================================\n",
            "conv3d_12 (Conv3D)           (None, 80, 150, 150, 8)   3008      \n",
            "_________________________________________________________________\n",
            "batch_normalization_12 (Batc (None, 80, 150, 150, 8)   32        \n",
            "_________________________________________________________________\n",
            "re_lu_12 (ReLU)              (None, 80, 150, 150, 8)   0         \n",
            "_________________________________________________________________\n",
            "conv3d_13 (Conv3D)           (None, 80, 150, 150, 16)  3472      \n",
            "_________________________________________________________________\n",
            "batch_normalization_13 (Batc (None, 80, 150, 150, 16)  64        \n",
            "_________________________________________________________________\n",
            "re_lu_13 (ReLU)              (None, 80, 150, 150, 16)  0         \n",
            "_________________________________________________________________\n",
            "conv3d_14 (Conv3D)           (None, 80, 150, 150, 32)  13856     \n",
            "_________________________________________________________________\n",
            "batch_normalization_14 (Batc (None, 80, 150, 150, 32)  128       \n",
            "_________________________________________________________________\n",
            "re_lu_14 (ReLU)              (None, 80, 150, 150, 32)  0         \n",
            "_________________________________________________________________\n",
            "max_pooling3d_3 (MaxPooling3 (None, 40, 75, 75, 32)    0         \n",
            "_________________________________________________________________\n",
            "conv3d_15 (Conv3D)           (None, 40, 75, 75, 64)    2112      \n",
            "_________________________________________________________________\n",
            "batch_normalization_15 (Batc (None, 40, 75, 75, 64)    256       \n",
            "_________________________________________________________________\n",
            "re_lu_15 (ReLU)              (None, 40, 75, 75, 64)    0         \n",
            "_________________________________________________________________\n",
            "flatten_3 (Flatten)          (None, 14400000)          0         \n",
            "_________________________________________________________________\n",
            "dense_6 (Dense)              (None, 10)                144000010 \n",
            "_________________________________________________________________\n",
            "dense_7 (Dense)              (None, 2)                 22        \n",
            "=================================================================\n",
            "Total params: 144,022,960\n",
            "Trainable params: 144,022,720\n",
            "Non-trainable params: 240\n",
            "_________________________________________________________________\n"
          ],
          "name": "stdout"
        }
      ]
    },
    {
      "cell_type": "code",
      "metadata": {
        "id": "297Pf9_KzLYR",
        "colab_type": "code",
        "colab": {
          "base_uri": "https://localhost:8080/",
          "height": 54
        },
        "outputId": "31a9274a-0d38-45c0-96f7-df333e4bd9a1"
      },
      "source": [
        "\"\"\"\n",
        "already=[]\n",
        "lines=open(res_src,\"r\").read().split(\"\\n\")\n",
        "for line in lines:\n",
        "  if len(line)>0:\n",
        "    aux=line.split(\";\")\n",
        "    already.append([aux[0],aux[1]])\n",
        "patients=all_patients(destiny_path)\n",
        "for patient in patients:\n",
        "  print(\"Patient:\",patient)\n",
        "  if patient not in already:\n",
        "    print(\"  Process:\",patient)\n",
        "    train,test=leave_one_out(destiny_path,patient=patient)\n",
        "    x_train=videos_to_x(train)\n",
        "    y_train=videos_to_y(train)\n",
        "    x_test=videos_to_x(test)\n",
        "    y_test=videos_to_y(test)\n",
        "    model_CNN.compile(optimizer=opt, loss='sparse_categorical_crossentropy',metrics=['accuracy'])\n",
        "    model_CNN.fit(x_train, y_train, epochs=8, batch_size=10)\n",
        "    y_pred=model_CNN.predict(x_test)\n",
        "    f=open(res_src,\"a+\")\n",
        "    text=patient[0]+\";\"+patient[1]+\";\"+str(y_test[0])+\";\"+str(y_test[1])+\";\"+str(np.argmax(y_pred[0]))+\";\"+str(np.argmax(y_pred[1]))+\"\\n\"\n",
        "    f.write(text)\n",
        "    f.close()\n",
        "\"\"\""
      ],
      "execution_count": 52,
      "outputs": [
        {
          "output_type": "execute_result",
          "data": {
            "text/plain": [
              "'\\nalready=[]\\nlines=open(res_src,\"r\").read().split(\"\\n\")\\nfor line in lines:\\n  if len(line)>0:\\n    aux=line.split(\";\")\\n    already.append([aux[0],aux[1]])\\npatients=all_patients(destiny_path)\\nfor patient in patients:\\n  print(\"Patient:\",patient)\\n  if patient not in already:\\n    print(\"  Process:\",patient)\\n    train,test=leave_one_out(destiny_path,patient=patient)\\n    x_train=videos_to_x(train)\\n    y_train=videos_to_y(train)\\n    x_test=videos_to_x(test)\\n    y_test=videos_to_y(test)\\n    model_CNN.compile(optimizer=opt, loss=\\'sparse_categorical_crossentropy\\',metrics=[\\'accuracy\\'])\\n    model_CNN.fit(x_train, y_train, epochs=8, batch_size=10)\\n    y_pred=model_CNN.predict(x_test)\\n    f=open(res_src,\"a+\")\\n    text=patient[0]+\";\"+patient[1]+\";\"+str(y_test[0])+\";\"+str(y_test[1])+\";\"+str(np.argmax(y_pred[0]))+\";\"+str(np.argmax(y_pred[1]))+\"\\n\"\\n    f.write(text)\\n    f.close()\\n'"
            ]
          },
          "metadata": {
            "tags": []
          },
          "execution_count": 52
        }
      ]
    },
    {
      "cell_type": "code",
      "metadata": {
        "id": "bf-ldEHGxlmv",
        "colab_type": "code",
        "colab": {
          "base_uri": "https://localhost:8080/",
          "height": 208
        },
        "outputId": "1700e56d-acc5-41d7-f37c-49dbd3341c1f"
      },
      "source": [
        "print(len(listdir(destiny_path)))\n",
        "train,test=train_test(destiny_path,0.2)\n",
        "x_train=videos_to_x(train)\n",
        "y_train=videos_to_y(train)\n",
        "x_test=videos_to_x(test)\n",
        "y_test=videos_to_y(test)\n",
        "model_CNN.compile(optimizer=opt, loss='sparse_categorical_crossentropy',metrics=['accuracy'])\n",
        "history = model_CNN.fit(x_train, y_train, epochs=8, batch_size=10,validation_data=(x_test, y_test))"
      ],
      "execution_count": 0,
      "outputs": [
        {
          "output_type": "stream",
          "text": [
            "52\n",
            "Epoch 1/8\n",
            "5/5 [==============================] - 415s 83s/step - loss: 150.0954 - accuracy: 0.4762 - val_loss: 0.6933 - val_accuracy: 0.4000\n",
            "Epoch 2/8\n",
            "5/5 [==============================] - 416s 83s/step - loss: 0.6931 - accuracy: 0.5238 - val_loss: 0.6933 - val_accuracy: 0.4000\n",
            "Epoch 3/8\n",
            "5/5 [==============================] - 416s 83s/step - loss: 0.6931 - accuracy: 0.5238 - val_loss: 0.6934 - val_accuracy: 0.4000\n",
            "Epoch 4/8\n",
            "5/5 [==============================] - 414s 83s/step - loss: 0.6931 - accuracy: 0.5238 - val_loss: 0.6934 - val_accuracy: 0.4000\n",
            "Epoch 5/8\n",
            "1/5 [=====>........................] - ETA: 0s - loss: 0.6926 - accuracy: 0.7000"
          ],
          "name": "stdout"
        }
      ]
    },
    {
      "cell_type": "code",
      "metadata": {
        "id": "tKdeaXwl07oE",
        "colab_type": "code",
        "colab": {}
      },
      "source": [
        "plt.plot(history.history['accuracy'])\n",
        "plt.plot(history.history['val_accuracy'])\n",
        "plt.title('Accuracy del modelo')\n",
        "plt.ylabel('accuracy')\n",
        "plt.xlabel('epoch')\n",
        "plt.legend(['train', 'test'], loc='upper left')\n",
        "plt.show()\n",
        "\n",
        "plt.plot(history.history['loss'])\n",
        "plt.plot(history.history['val_loss'])\n",
        "plt.title('Pérdida del modelo')\n",
        "plt.ylabel('pérdida')\n",
        "plt.xlabel('epoch')\n",
        "plt.legend(['train', 'test'], loc='upper left')\n",
        "plt.show()"
      ],
      "execution_count": 0,
      "outputs": []
    }
  ]
}